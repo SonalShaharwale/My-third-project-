{
 "cells": [
  {
   "cell_type": "markdown",
   "id": "2fc866dc-b56d-4d3d-ac3d-abfa55d3cf3f",
   "metadata": {},
   "source": [
    "Task 1 \n",
    "There are three different tables as given above. Please make three dataframe in python \n",
    "and save them as three .csv files. From Task 2 to Task 10, use the saved .csv files only.\n",
    "\n",
    "First, I had created the list of columns to combine them into three different DataFrames:Employee DataFrame,\n",
    "Project DataFrame,\n",
    "Seniority DataFrame and save them as csv."
   ]
  },
  {
   "cell_type": "code",
   "execution_count": 2,
   "id": "627ac877-8281-4086-9311-abf4a7423def",
   "metadata": {},
   "outputs": [
    {
     "name": "stdout",
     "output_type": "stream",
     "text": [
      "     ID             Name Gender     City  Age\n",
      "0  A001       John Alter      M    Paris   25\n",
      "1  A002  Alice Luxumberg      F   London   27\n",
      "2  A003    Tom Sabestine      M   Berlin   29\n",
      "3  A004       Nina Adgra      F  Newyork   31\n",
      "4  A005        Amy Johny      F   Madrid   30\n",
      "     ID  Designation Level\n",
      "0  A001                  2\n",
      "1  A002                  2\n",
      "2  A003                  3\n",
      "3  A004                  2\n",
      "4  A005                  3\n",
      "      ID     Project       Cost    Status\n",
      "0   A001   Project 1  1002000.0  Finished\n",
      "1   A002   Project 2  2000000.0   Ongoing\n",
      "2   A003   Project 3  4500000.0  Finished\n",
      "3   A004   Project 4  5500000.0   Ongoing\n",
      "4   A005   Project 5        NaN  Finished\n",
      "5   A002   Project 6   680000.0    Failed\n",
      "6   A005   Project 7   400000.0  Finished\n",
      "7   A003   Project 8   350000.0    Failed\n",
      "8   A001   Project 9        NaN   Ongoing\n",
      "9   A003  Project 10   300000.0  Finished\n",
      "10  A001  Project 11  2000000.0    Failed\n",
      "11  A004  Project 12  1000000.0   Ongoing\n",
      "12  A004  Project 13  3000000.0  Finished\n",
      "13  A005  Project 14   200000.0  Finished\n"
     ]
    }
   ],
   "source": [
    "import pandas as pd  # Importing pandas for data manipulation\n",
    "import numpy as np  # Importing numpy for numerical operations\n",
    "\n",
    "# Task 1: Create DataFrames and save them as CSV files\n",
    "\n",
    "# Creating Employee DataFrame\n",
    "df_employee = pd.DataFrame({\n",
    "    'ID': ['A001', 'A002', 'A003', 'A004', 'A005'],  # Employee IDs\n",
    "    'Name': ['John Alter', 'Alice Luxumberg', 'Tom Sabestine', 'Nina Adgra', 'Amy Johny'],  # Employee names\n",
    "    'Gender': ['M', 'F', 'M', 'F', 'F'],  # Gender of employees\n",
    "    'City': ['Paris', 'London', 'Berlin', 'Newyork', 'Madrid'],  # City of employees\n",
    "    'Age': [25, 27, 29, 31, 30]  # Age of employees\n",
    "})\n",
    "df_employee.to_csv(\"employee_data.csv\", index=False)  # Saving Employee DataFrame as CSV\n",
    "print(df_employee)  # Displaying Employee DataFrame\n",
    "\n",
    "# Creating Seniority Level DataFrame\n",
    "df_seniority = pd.DataFrame({\n",
    "    'ID': ['A001', 'A002', 'A003', 'A004', 'A005'],  # Employee IDs\n",
    "    'Designation Level': [2, 2, 3, 2, 3]  # Designation level of employees\n",
    "})\n",
    "df_seniority.to_csv(\"seniority_data.csv\", index=False)  # Saving Seniority DataFrame as CSV\n",
    "print(df_seniority)  # Displaying Seniority DataFrame\n",
    "\n",
    "# Creating Project DataFrame\n",
    "df_project = pd.DataFrame({\n",
    "    'ID': ['A001', 'A002', 'A003', 'A004', 'A005', 'A002', 'A005', 'A003', 'A001', 'A003', 'A001', 'A004', 'A004', 'A005'],  # Employee IDs\n",
    "    'Project': ['Project 1', 'Project 2', 'Project 3', 'Project 4', 'Project 5', 'Project 6', 'Project 7', 'Project 8', 'Project 9', 'Project 10', 'Project 11', 'Project 12', 'Project 13', 'Project 14'],  # Project names\n",
    "    'Cost': [1002000, 2000000, 4500000, 5500000, np.nan, 680000, 400000, 350000, np.nan, 300000, 2000000, 1000000, 3000000, 200000],  # Project costs with some missing values\n",
    "    'Status': ['Finished', 'Ongoing', 'Finished', 'Ongoing', 'Finished', 'Failed', 'Finished', 'Failed', 'Ongoing', 'Finished', 'Failed', 'Ongoing', 'Finished', 'Finished']  # Project status\n",
    "})\n",
    "df_project.to_csv(\"project_data.csv\", index=False)  # Saving Project DataFrame as CSV\n",
    "print(df_project)  # Displaying Project DataFrame\n"
   ]
  },
  {
   "cell_type": "markdown",
   "id": "f0c3d9ae-00e3-45fa-8d1c-5c30d8bedd9b",
   "metadata": {},
   "source": [
    "Task 2 \n",
    "The cost column in the dataframe “Project” has some missing values. Your task is to \n",
    "compute these missing values. Replace the missing values by running average. You \n",
    "should use the “For” loop for this task.\n",
    "\n",
    "The \"Cost\" column in the df_project DataFrame had contained missing values (NaN). I had replaced these missing values with the running average of the previously available values. I had created a copy of the \"Cost\" column to avoid modifying the original data directly and had used a for loop to iterate through each row. If a value had been missing (NaN), I had replaced it with the running average of previous values using np.nanmean(), while also handling edge cases (e.g., if the first row had been NaN, I had replaced it with 0 or another default value)."
   ]
  },
  {
   "cell_type": "code",
   "execution_count": 3,
   "id": "53d00438-79b9-4307-a63b-78788014befc",
   "metadata": {},
   "outputs": [
    {
     "name": "stdout",
     "output_type": "stream",
     "text": [
      "      ID     Project       Cost    Status\n",
      "0   A001   Project 1  1002000.0  Finished\n",
      "1   A002   Project 2  2000000.0   Ongoing\n",
      "2   A003   Project 3  4500000.0  Finished\n",
      "3   A004   Project 4  5500000.0   Ongoing\n",
      "4   A005   Project 5  3250500.0  Finished\n",
      "5   A002   Project 6   680000.0    Failed\n",
      "6   A005   Project 7   400000.0  Finished\n",
      "7   A003   Project 8   350000.0    Failed\n",
      "8   A001   Project 9  2210312.5   Ongoing\n",
      "9   A003  Project 10   300000.0  Finished\n",
      "10  A001  Project 11  2000000.0    Failed\n",
      "11  A004  Project 12  1000000.0   Ongoing\n",
      "12  A004  Project 13  3000000.0  Finished\n",
      "13  A005  Project 14   200000.0  Finished\n"
     ]
    }
   ],
   "source": [
    "# Task 2: Replace the missing values by running average\n",
    "# Copying cost column to modify it\n",
    "costs = df_project['Cost'].copy()\n",
    "\n",
    "# Looping through each row to replace NaN values with the running average\n",
    "for i in range(len(costs)):\n",
    "    if pd.isna(costs.iloc[i]):  # Checking if the value is missing\n",
    "        if i > 0:  # Avoid empty slice issue at index 0\n",
    "            costs.iloc[i] = np.nanmean(costs[:i])\n",
    "        else:\n",
    "            costs.iloc[i] = 0  # If first value is NaN, replace with 0 or another default value\n",
    "\n",
    "# Updating DataFrame with modified cost values\n",
    "df_project['Cost'] = costs  \n",
    "\n",
    "# Saving updated Project DataFrame\n",
    "df_project.to_csv(\"project_data.csv\", index=False)  \n",
    "\n",
    "# Displaying updated DataFrame\n",
    "print(df_project)\n"
   ]
  },
  {
   "cell_type": "markdown",
   "id": "c9327759-4ce3-4c6e-ab85-c6066e4ee6be",
   "metadata": {},
   "source": [
    "Task 3 \n",
    "Split the name column in the Employee dataframe into two new columns “First Name”, and “Last Name” and remove the older “name” column. \n",
    "\n",
    "In this task, I had processed the Name column in the df_employee DataFrame to separate first and last names and had converted the Name column to a string type using .astype(str), ensuring consistent processing. I had used .str.split(n=1, expand=True) to separate the first and last names. The parameter n=1 had ensured that only the first space was used for splitting, keeping everything after the first space as the last name. After extracting the first and last names, I had removed the old Name column using drop()."
   ]
  },
  {
   "cell_type": "code",
   "execution_count": 4,
   "id": "4e1fecfa-b6e6-4873-8945-5ea1fae691a9",
   "metadata": {},
   "outputs": [
    {
     "name": "stdout",
     "output_type": "stream",
     "text": [
      "     ID Gender     City  Age First Name  Last Name\n",
      "0  A001      M    Paris   25       John      Alter\n",
      "1  A002      F   London   27      Alice  Luxumberg\n",
      "2  A003      M   Berlin   29        Tom  Sabestine\n",
      "3  A004      F  Newyork   31       Nina      Adgra\n",
      "4  A005      F   Madrid   30        Amy      Johny\n"
     ]
    }
   ],
   "source": [
    "# Task 3: Split 'Name' into 'First Name' and 'Last Name'\n",
    "df_employee['Name'] = df_employee['Name'].astype(str)  # Ensuring the column is of string type\n",
    "df_employee[['First Name', 'Last Name']] = df_employee['Name'].str.split(n=1, expand=True)  # Splitting names\n",
    "df_employee.drop(columns=['Name'], inplace=True)  # Dropping old Name column\n",
    "df_employee.to_csv(\"employee_data.csv\", index=False)  # Saving updated Employee DataFrame\n",
    "print(df_employee)  # Displaying updated Employee DataFrame"
   ]
  },
  {
   "cell_type": "markdown",
   "id": "9bad8de9-3d71-4f9b-ae38-730bef7ca97b",
   "metadata": {},
   "source": [
    "Task 4 \n",
    "Join all three dataframes in one single dataframe. Name it “Final”\n",
    "\n",
    "In this task, I had merged multiple DataFrames (df_project, df_employee, and df_seniority) into a single DataFrame for consolidated analysis.\n",
    "I had merged df_project and df_employee using the .merge() function on the 'ID' column, ensuring that project and employee details were combined based on the matching IDs, and then merged the result with df_seniority. The second .merge() operation had integrated seniority details, again using the 'ID' column as the key. This had resulted in a final dataset that contained project details, employee details, and seniority information in a single DataFrame.The merged DataFrame had been saved as \"final.csv\" for future use."
   ]
  },
  {
   "cell_type": "code",
   "execution_count": 5,
   "id": "ecb2f6fc-9e8c-4fc4-943d-7f406b257648",
   "metadata": {},
   "outputs": [
    {
     "name": "stdout",
     "output_type": "stream",
     "text": [
      "      ID     Project       Cost    Status Gender     City  Age First Name  \\\n",
      "0   A001   Project 1  1002000.0  Finished      M    Paris   25       John   \n",
      "1   A002   Project 2  2000000.0   Ongoing      F   London   27      Alice   \n",
      "2   A003   Project 3  4500000.0  Finished      M   Berlin   29        Tom   \n",
      "3   A004   Project 4  5500000.0   Ongoing      F  Newyork   31       Nina   \n",
      "4   A005   Project 5  3250500.0  Finished      F   Madrid   30        Amy   \n",
      "5   A002   Project 6   680000.0    Failed      F   London   27      Alice   \n",
      "6   A005   Project 7   400000.0  Finished      F   Madrid   30        Amy   \n",
      "7   A003   Project 8   350000.0    Failed      M   Berlin   29        Tom   \n",
      "8   A001   Project 9  2210312.5   Ongoing      M    Paris   25       John   \n",
      "9   A003  Project 10   300000.0  Finished      M   Berlin   29        Tom   \n",
      "10  A001  Project 11  2000000.0    Failed      M    Paris   25       John   \n",
      "11  A004  Project 12  1000000.0   Ongoing      F  Newyork   31       Nina   \n",
      "12  A004  Project 13  3000000.0  Finished      F  Newyork   31       Nina   \n",
      "13  A005  Project 14   200000.0  Finished      F   Madrid   30        Amy   \n",
      "\n",
      "    Last Name  Designation Level  \n",
      "0       Alter                  2  \n",
      "1   Luxumberg                  2  \n",
      "2   Sabestine                  3  \n",
      "3       Adgra                  2  \n",
      "4       Johny                  3  \n",
      "5   Luxumberg                  2  \n",
      "6       Johny                  3  \n",
      "7   Sabestine                  3  \n",
      "8       Alter                  2  \n",
      "9   Sabestine                  3  \n",
      "10      Alter                  2  \n",
      "11      Adgra                  2  \n",
      "12      Adgra                  2  \n",
      "13      Johny                  3  \n"
     ]
    }
   ],
   "source": [
    "# Task 4: Merge all DataFrames\n",
    "df_final = df_project.merge(df_employee, on='ID').merge(df_seniority, on='ID')  # Merging all DataFrames\n",
    "df_final.to_csv(\"final.csv\", index=False)  # Saving final merged DataFrame\n",
    "print(df_final)  # Displaying merged DataFrame"
   ]
  },
  {
   "cell_type": "markdown",
   "id": "767adb0e-6101-485f-98b9-6b3304206576",
   "metadata": {},
   "source": [
    "Task 5 \n",
    "Add a new bonus column in the Final dataframe. Give a 5% bonus concerning project cost only to employees who have finished the projects. \n",
    "\n",
    "In this step, I had added a new column called \"Bonus\" to reward employees for completed projects. The bonus had been calculated as 5% of the project cost if the project status was \"Finished\"; otherwise, the bonus remained 0. To achieve this, I had used the .apply() function, which had applied a lambda function to each row of the DataFrame. This lambda function had checked the \"Status\" column—if the project had been marked as \"Finished\", it had calculated 5% of the \"Cost\" value and had rounded it to two decimal places. Otherwise, it had assigned a bonus of 0."
   ]
  },
  {
   "cell_type": "code",
   "execution_count": 6,
   "id": "014f1c65-0d55-4985-a75a-460e4e59fd09",
   "metadata": {},
   "outputs": [
    {
     "name": "stdout",
     "output_type": "stream",
     "text": [
      "      ID     Project       Cost    Status Gender     City  Age First Name  \\\n",
      "0   A001   Project 1  1002000.0  Finished      M    Paris   25       John   \n",
      "1   A002   Project 2  2000000.0   Ongoing      F   London   27      Alice   \n",
      "2   A003   Project 3  4500000.0  Finished      M   Berlin   29        Tom   \n",
      "3   A004   Project 4  5500000.0   Ongoing      F  Newyork   31       Nina   \n",
      "4   A005   Project 5  3250500.0  Finished      F   Madrid   30        Amy   \n",
      "5   A002   Project 6   680000.0    Failed      F   London   27      Alice   \n",
      "6   A005   Project 7   400000.0  Finished      F   Madrid   30        Amy   \n",
      "7   A003   Project 8   350000.0    Failed      M   Berlin   29        Tom   \n",
      "8   A001   Project 9  2210312.5   Ongoing      M    Paris   25       John   \n",
      "9   A003  Project 10   300000.0  Finished      M   Berlin   29        Tom   \n",
      "10  A001  Project 11  2000000.0    Failed      M    Paris   25       John   \n",
      "11  A004  Project 12  1000000.0   Ongoing      F  Newyork   31       Nina   \n",
      "12  A004  Project 13  3000000.0  Finished      F  Newyork   31       Nina   \n",
      "13  A005  Project 14   200000.0  Finished      F   Madrid   30        Amy   \n",
      "\n",
      "    Last Name  Designation Level     Bonus  \n",
      "0       Alter                  2   50100.0  \n",
      "1   Luxumberg                  2       0.0  \n",
      "2   Sabestine                  3  225000.0  \n",
      "3       Adgra                  2       0.0  \n",
      "4       Johny                  3  162525.0  \n",
      "5   Luxumberg                  2       0.0  \n",
      "6       Johny                  3   20000.0  \n",
      "7   Sabestine                  3       0.0  \n",
      "8       Alter                  2       0.0  \n",
      "9   Sabestine                  3   15000.0  \n",
      "10      Alter                  2       0.0  \n",
      "11      Adgra                  2       0.0  \n",
      "12      Adgra                  2  150000.0  \n",
      "13      Johny                  3   10000.0  \n"
     ]
    }
   ],
   "source": [
    "# Task 5: Add bonus column for finished projects\n",
    "df_final['Bonus'] = df_final.apply(lambda row: round(row['Cost'] * 0.05, 2) if row['Status'] == 'Finished' else 0, axis=1)  # Calculating and rounding bonus\n",
    "df_final.to_csv(\"final.csv\", index=False)  # Saving updated DataFrame\n",
    "print(df_final)  # Displaying DataFrame with Bonus column"
   ]
  },
  {
   "cell_type": "markdown",
   "id": "35865bbc-3c17-493d-9128-08b24d37ce79",
   "metadata": {},
   "source": [
    "Task 6 \n",
    "Demote the designation level by 1, whose projects have status “fail”. Delete the \n",
    "employees record whose designation level is above 4. \n",
    "\n",
    "In this task, I had updated the designation levels of employees based on project outcomes and had removed ineligible employees from the dataset. First, I had identified employees associated with failed projects and had increased their Designation Level by 1, effectively demoting them. After applying the demotion, I had filtered out employees whose Designation Level exceeded 4, as they were no longer eligible to remain in the dataset. Once the necessary modifications had been made, I had saved the updated DataFrame as final.csv to preserve the changes."
   ]
  },
  {
   "cell_type": "code",
   "execution_count": 7,
   "id": "484e2353-4d65-404f-a4df-1d69887bf6ef",
   "metadata": {},
   "outputs": [
    {
     "name": "stdout",
     "output_type": "stream",
     "text": [
      "      ID     Project       Cost    Status Gender     City  Age First Name  \\\n",
      "0   A001   Project 1  1002000.0  Finished      M    Paris   25       John   \n",
      "1   A002   Project 2  2000000.0   Ongoing      F   London   27      Alice   \n",
      "2   A003   Project 3  4500000.0  Finished      M   Berlin   29        Tom   \n",
      "3   A004   Project 4  5500000.0   Ongoing      F  Newyork   31       Nina   \n",
      "4   A005   Project 5  3250500.0  Finished      F   Madrid   30        Amy   \n",
      "5   A002   Project 6   680000.0    Failed      F   London   27      Alice   \n",
      "6   A005   Project 7   400000.0  Finished      F   Madrid   30        Amy   \n",
      "7   A003   Project 8   350000.0    Failed      M   Berlin   29        Tom   \n",
      "8   A001   Project 9  2210312.5   Ongoing      M    Paris   25       John   \n",
      "9   A003  Project 10   300000.0  Finished      M   Berlin   29        Tom   \n",
      "10  A001  Project 11  2000000.0    Failed      M    Paris   25       John   \n",
      "11  A004  Project 12  1000000.0   Ongoing      F  Newyork   31       Nina   \n",
      "12  A004  Project 13  3000000.0  Finished      F  Newyork   31       Nina   \n",
      "13  A005  Project 14   200000.0  Finished      F   Madrid   30        Amy   \n",
      "\n",
      "    Last Name  Designation Level     Bonus  \n",
      "0       Alter                  2   50100.0  \n",
      "1   Luxumberg                  2       0.0  \n",
      "2   Sabestine                  3  225000.0  \n",
      "3       Adgra                  2       0.0  \n",
      "4       Johny                  3  162525.0  \n",
      "5   Luxumberg                  3       0.0  \n",
      "6       Johny                  3   20000.0  \n",
      "7   Sabestine                  4       0.0  \n",
      "8       Alter                  2       0.0  \n",
      "9   Sabestine                  3   15000.0  \n",
      "10      Alter                  3       0.0  \n",
      "11      Adgra                  2       0.0  \n",
      "12      Adgra                  2  150000.0  \n",
      "13      Johny                  3   10000.0  \n"
     ]
    }
   ],
   "source": [
    "# Task 6: Demote designation level and remove ineligible employees\n",
    "df_final.loc[df_final['Status'] == 'Failed', 'Designation Level'] += 1  # Demoting employees with failed projects\n",
    "df_final = df_final[df_final['Designation Level'] <= 4]  # Removing employees with designation level above 4\n",
    "df_final.to_csv(\"final.csv\", index=False)  # Saving updated DataFrame\n",
    "print(df_final)  # Displaying updated DataFrame"
   ]
  },
  {
   "cell_type": "markdown",
   "id": "59b3b972-d73a-4fb8-8dee-19390040d6bf",
   "metadata": {},
   "source": [
    "Task 7 \n",
    "Add “Mr.” and “Mrs.” to the first name column and drop the gender column.\n",
    "\n",
    "In this task, I had modified the First Name column by adding appropriate titles based on the employee's gender and had removed the Gender column from the dataset. I had used the .apply() function with a lambda function to check the Gender column, if the employee was male 'M', I had prefixed 'Mr.' to their first name; otherwise, I had prefixed 'Mrs.'. After updating the names, I had dropped the Gender column using .drop() to remove unnecessary data. "
   ]
  },
  {
   "cell_type": "code",
   "execution_count": 9,
   "id": "768f90ca-0ae6-46bc-909c-621eb13f6025",
   "metadata": {},
   "outputs": [
    {
     "name": "stdout",
     "output_type": "stream",
     "text": [
      "      ID     Project       Cost    Status     City  Age  First Name  \\\n",
      "0   A001   Project 1  1002000.0  Finished    Paris   25    Mr. John   \n",
      "1   A002   Project 2  2000000.0   Ongoing   London   27  Mrs. Alice   \n",
      "2   A003   Project 3  4500000.0  Finished   Berlin   29     Mr. Tom   \n",
      "3   A004   Project 4  5500000.0   Ongoing  Newyork   31   Mrs. Nina   \n",
      "4   A005   Project 5  3250500.0  Finished   Madrid   30    Mrs. Amy   \n",
      "5   A002   Project 6   680000.0    Failed   London   27  Mrs. Alice   \n",
      "6   A005   Project 7   400000.0  Finished   Madrid   30    Mrs. Amy   \n",
      "7   A003   Project 8   350000.0    Failed   Berlin   29     Mr. Tom   \n",
      "8   A001   Project 9  2210312.5   Ongoing    Paris   25    Mr. John   \n",
      "9   A003  Project 10   300000.0  Finished   Berlin   29     Mr. Tom   \n",
      "10  A001  Project 11  2000000.0    Failed    Paris   25    Mr. John   \n",
      "11  A004  Project 12  1000000.0   Ongoing  Newyork   31   Mrs. Nina   \n",
      "12  A004  Project 13  3000000.0  Finished  Newyork   31   Mrs. Nina   \n",
      "13  A005  Project 14   200000.0  Finished   Madrid   30    Mrs. Amy   \n",
      "\n",
      "    Last Name  Designation Level     Bonus  \n",
      "0       Alter                  2   50100.0  \n",
      "1   Luxumberg                  2       0.0  \n",
      "2   Sabestine                  3  225000.0  \n",
      "3       Adgra                  2       0.0  \n",
      "4       Johny                  3  162525.0  \n",
      "5   Luxumberg                  3       0.0  \n",
      "6       Johny                  3   20000.0  \n",
      "7   Sabestine                  4       0.0  \n",
      "8       Alter                  2       0.0  \n",
      "9   Sabestine                  3   15000.0  \n",
      "10      Alter                  3       0.0  \n",
      "11      Adgra                  2       0.0  \n",
      "12      Adgra                  2  150000.0  \n",
      "13      Johny                  3   10000.0  \n"
     ]
    }
   ],
   "source": [
    "# Task 7: Add titles and drop gender\n",
    "df_final['First Name'] = df_final.apply(lambda row: 'Mr. ' + row['First Name'] if row['Gender'] == 'M' else 'Mrs. ' + row['First Name'], axis=1)  # Adding Mr./Mrs.\n",
    "df_final.drop(columns=['Gender'], inplace=True)  # Dropping gender column\n",
    "df_final.to_csv(\"final.csv\", index=False)  # Saving updated DataFrame\n",
    "print(df_final)  # Displaying updated DataFrame"
   ]
  },
  {
   "cell_type": "markdown",
   "id": "389d8ad3-5ae8-438f-aaf5-d6bb8a22d2c7",
   "metadata": {},
   "source": [
    "Task 8 \n",
    "Promote designation level by 1 for the employees whose age is more than 29 years using \n",
    "IF condition.\n",
    "\n",
    "In this task, I had promoted employees who were older than 29 years by decreasing their Designation Level by 1. Since a lower designation level indicates a higher rank, this adjustment had effectively promoted eligible employees. To ensure that no employee's Designation Level went below 1 (the highest rank), I had added a condition to reset any values below 1 back to 1. After making these updates, I had saved the modified DataFrame as final.csv to preserve the changes."
   ]
  },
  {
   "cell_type": "code",
   "execution_count": 10,
   "id": "89058948-48f0-4c23-9295-26bcb4e1a392",
   "metadata": {},
   "outputs": [
    {
     "name": "stdout",
     "output_type": "stream",
     "text": [
      "      ID     Project       Cost    Status     City  Age  First Name  \\\n",
      "0   A001   Project 1  1002000.0  Finished    Paris   25    Mr. John   \n",
      "1   A002   Project 2  2000000.0   Ongoing   London   27  Mrs. Alice   \n",
      "2   A003   Project 3  4500000.0  Finished   Berlin   29     Mr. Tom   \n",
      "3   A004   Project 4  5500000.0   Ongoing  Newyork   31   Mrs. Nina   \n",
      "4   A005   Project 5  3250500.0  Finished   Madrid   30    Mrs. Amy   \n",
      "5   A002   Project 6   680000.0    Failed   London   27  Mrs. Alice   \n",
      "6   A005   Project 7   400000.0  Finished   Madrid   30    Mrs. Amy   \n",
      "7   A003   Project 8   350000.0    Failed   Berlin   29     Mr. Tom   \n",
      "8   A001   Project 9  2210312.5   Ongoing    Paris   25    Mr. John   \n",
      "9   A003  Project 10   300000.0  Finished   Berlin   29     Mr. Tom   \n",
      "10  A001  Project 11  2000000.0    Failed    Paris   25    Mr. John   \n",
      "11  A004  Project 12  1000000.0   Ongoing  Newyork   31   Mrs. Nina   \n",
      "12  A004  Project 13  3000000.0  Finished  Newyork   31   Mrs. Nina   \n",
      "13  A005  Project 14   200000.0  Finished   Madrid   30    Mrs. Amy   \n",
      "\n",
      "    Last Name  Designation Level     Bonus  \n",
      "0       Alter                  2   50100.0  \n",
      "1   Luxumberg                  2       0.0  \n",
      "2   Sabestine                  3  225000.0  \n",
      "3       Adgra                  1       0.0  \n",
      "4       Johny                  2  162525.0  \n",
      "5   Luxumberg                  3       0.0  \n",
      "6       Johny                  2   20000.0  \n",
      "7   Sabestine                  4       0.0  \n",
      "8       Alter                  2       0.0  \n",
      "9   Sabestine                  3   15000.0  \n",
      "10      Alter                  3       0.0  \n",
      "11      Adgra                  1       0.0  \n",
      "12      Adgra                  1  150000.0  \n",
      "13      Johny                  2   10000.0  \n"
     ]
    }
   ],
   "source": [
    "# Task 8: Promote employees older than 29\n",
    "df_final.loc[df_final['Age'] > 29, 'Designation Level'] -= 1  # Promoting employees by reducing designation level\n",
    "df_final.loc[df_final['Designation Level'] < 1, 'Designation Level'] = 1  # Ensuring no level goes below 1\n",
    "df_final.to_csv(\"final.csv\", index=False)  # Saving updated DataFrame\n",
    "print(df_final)  # Displaying updated DataFrame"
   ]
  },
  {
   "cell_type": "markdown",
   "id": "f30c1cd1-7db8-4c1b-9d31-8803beb1220d",
   "metadata": {},
   "source": [
    "Task 9 \n",
    "Add the cost of all projects for each Employee and save it in new dataframe \n",
    "“TotalProjCost” with three columns ID, First Name, and Total cost \n",
    "\n",
    "In this task, I had calculated the total project cost per employee by summing up the costs of all projects associated with each employee. To achieve this, I had used the .groupby() function on the 'ID' and 'First Name' columns to group data by individual employees and had then summed their respective Cost values. After computing the total cost, I had renamed the 'Cost' column to 'Total Cost' for clarity. Once the calculations had been completed, I had saved the updated DataFrame as 'totalproject_cost.csv' to store the results."
   ]
  },
  {
   "cell_type": "code",
   "execution_count": 11,
   "id": "28814f99-2046-470c-9932-65bcff3060c2",
   "metadata": {},
   "outputs": [
    {
     "name": "stdout",
     "output_type": "stream",
     "text": [
      "     ID  First Name  Total Cost\n",
      "0  A001    Mr. John   5212312.5\n",
      "1  A002  Mrs. Alice   2680000.0\n",
      "2  A003     Mr. Tom   5150000.0\n",
      "3  A004   Mrs. Nina   9500000.0\n",
      "4  A005    Mrs. Amy   3850500.0\n"
     ]
    }
   ],
   "source": [
    "# Task 9: Compute total project cost per employee\n",
    "df_total_cost = df_final.groupby(['ID', 'First Name'])['Cost'].sum().reset_index()  # Summing costs per employee\n",
    "df_total_cost.rename(columns={'Cost': 'Total Cost'}, inplace=True)  # Renaming column\n",
    "df_total_cost.to_csv(\"totalproject_cost.csv\", index=False)  # Saving total cost DataFrame\n",
    "print(df_total_cost)  # Displaying total project cost DataFrame"
   ]
  },
  {
   "cell_type": "markdown",
   "id": "798e9ad9-1f57-4c58-add9-635b97f60336",
   "metadata": {},
   "source": [
    "Task 10 \n",
    "Print all the employee details whose city name contains the letter “o” in it.\n",
    "\n",
    "In this task, I had filtered the employee details to identify those whose city names contained the letter \"o\" (regardless of case). To achieve this, I had used the .str.contains('o', case=False) function on the \"City\" column, ensuring that all matches were found in a case-insensitive manner. After filtering, I had removed any duplicate entries using .drop_duplicates(subset=['ID', 'First Name']), ensuring that each employee appeared only once in the final dataset. Finally, I had displayed the filtered list of employees to verify the results.\n"
   ]
  },
  {
   "cell_type": "code",
   "execution_count": 10,
   "id": "439e931c-ea5c-4fa2-b728-f3c082d8d6b5",
   "metadata": {},
   "outputs": [
    {
     "name": "stdout",
     "output_type": "stream",
     "text": [
      "     ID    Project       Cost   Status     City  Age  First Name  Last Name  \\\n",
      "1  A002  Project 2  2000000.0  Ongoing   London   27  Mrs. Alice  Luxumberg   \n",
      "3  A004  Project 4  5500000.0  Ongoing  Newyork   31   Mrs. Nina      Adgra   \n",
      "\n",
      "   Designation Level  Bonus  \n",
      "1                  2    0.0  \n",
      "3                  1    0.0  \n"
     ]
    }
   ],
   "source": [
    "# Task 10: Filter unique employees in cities with 'o' in their names\n",
    "employees_in_o_cities = df_final[df_final['City'].str.contains('o', case=False)]  # Filtering employees in cities with 'o'\n",
    "employees_in_o_cities = employees_in_o_cities.drop_duplicates(subset=['ID', 'First Name'])  # Keeping unique employees only\n",
    "print(employees_in_o_cities)  # Printing filtered unique employees"
   ]
  },
  {
   "cell_type": "code",
   "execution_count": null,
   "id": "8b1dd294-7528-4e08-bdf5-19479c7d2286",
   "metadata": {},
   "outputs": [],
   "source": []
  }
 ],
 "metadata": {
  "kernelspec": {
   "display_name": "Python 3 (ipykernel)",
   "language": "python",
   "name": "python3"
  },
  "language_info": {
   "codemirror_mode": {
    "name": "ipython",
    "version": 3
   },
   "file_extension": ".py",
   "mimetype": "text/x-python",
   "name": "python",
   "nbconvert_exporter": "python",
   "pygments_lexer": "ipython3",
   "version": "3.12.7"
  }
 },
 "nbformat": 4,
 "nbformat_minor": 5
}
